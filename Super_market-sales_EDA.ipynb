{
 "cells": [
  {
   "cell_type": "markdown",
   "id": "f677ac61",
   "metadata": {
    "id": "f677ac61"
   },
   "source": [
    "![supermarkets.png](attachment:supermarkets.png)"
   ]
  },
  {
   "cell_type": "markdown",
   "id": "f6a93c43",
   "metadata": {
    "id": "f6a93c43"
   },
   "source": [
    "##### Importing Libraries"
   ]
  },
  {
   "cell_type": "code",
   "execution_count": 2,
   "id": "df750ca9",
   "metadata": {
    "id": "df750ca9"
   },
   "outputs": [],
   "source": [
    "#importing core libraries\n",
    "import numpy as np\n",
    "import pandas as pd\n",
    "import matplotlib.pyplot as plt\n",
    "import seaborn as sns\n",
    "\n",
    "#Geo visualisations\n",
    "import folium\n",
    "\n",
    "\n",
    "%matplotlib inline   \n"
   ]
  },
  {
   "cell_type": "code",
   "execution_count": 3,
   "id": "16aa6dbb",
   "metadata": {
    "id": "16aa6dbb"
   },
   "outputs": [],
   "source": [
    "# For suppressing warning messages\n",
    "import warnings\n",
    "\n",
    "warnings.filterwarnings('ignore')"
   ]
  },
  {
   "cell_type": "markdown",
   "id": "eee518dd",
   "metadata": {
    "id": "eee518dd"
   },
   "source": [
    "##### Changing default figure size "
   ]
  },
  {
   "cell_type": "code",
   "execution_count": null,
   "id": "dc9e28ff",
   "metadata": {
    "id": "dc9e28ff",
    "outputId": "13cdad22-6823-4b73-8232-0ad111328e0e",
    "scrolled": true
   },
   "outputs": [],
   "source": [
    "## Changing default figure size using rcParams\n",
    "\n",
    "print(\"Earlier, figure default size was: \", plt.rcParams[\"figure.figsize\"])\n",
    "plt.rcParams[\"figure.figsize\"] = (10, 5)\n",
    "print(\"Now, figure default size is: \", plt.rcParams[\"figure.figsize\"])"
   ]
  },
  {
   "cell_type": "markdown",
   "id": "1b03aebd",
   "metadata": {
    "id": "1b03aebd"
   },
   "source": [
    "##### Applying theme for notebook"
   ]
  },
  {
   "cell_type": "code",
   "execution_count": null,
   "id": "d5acd51e",
   "metadata": {
    "id": "d5acd51e"
   },
   "outputs": [],
   "source": [
    "# Setting theme for charts\n",
    "\n",
    "plt.style.use('ggplot')"
   ]
  },
  {
   "cell_type": "markdown",
   "id": "96891e11",
   "metadata": {
    "id": "96891e11"
   },
   "source": [
    "##### Increasing Row/Col display limit "
   ]
  },
  {
   "cell_type": "code",
   "execution_count": null,
   "id": "ad6aa140",
   "metadata": {
    "id": "ad6aa140"
   },
   "outputs": [],
   "source": [
    "# NOTE : New function\n",
    "\n",
    "# Extending the default setting for maximum displayable rows/columns in Jupyter\n",
    "# If not used, Jupyter wll truncate some rows and columns by default. \n",
    "\n",
    "pd.options.display.max_rows = 4000\n",
    "pd.options.display.max_columns = 1000"
   ]
  },
  {
   "cell_type": "markdown",
   "id": "13bd078c",
   "metadata": {
    "id": "13bd078c"
   },
   "source": [
    "##### Changing working directory`"
   ]
  },
  {
   "cell_type": "code",
   "execution_count": null,
   "id": "fdcf7fbb",
   "metadata": {
    "id": "fdcf7fbb",
    "outputId": "8e92df0f-a32a-4605-ef88-fc5d2aa2e63c",
    "scrolled": true
   },
   "outputs": [],
   "source": [
    "#import os\n",
    "#os.chdir(\"C:\\\\Users\")\n",
    "#print('Current working directory is ----    '+ os.getcwd())\n",
    "#os.chdir(\"D:\\\\Relevel\\\\Week 13_Day5\\Data\")\n",
    "#print('Changed working directory is ----    '+ os.getcwd())"
   ]
  },
  {
   "cell_type": "markdown",
   "id": "e71d75d5",
   "metadata": {
    "id": "e71d75d5"
   },
   "source": [
    "# EDA - Supermarket Sales"
   ]
  },
  {
   "cell_type": "markdown",
   "id": "16378d7a",
   "metadata": {
    "id": "16378d7a"
   },
   "source": [
    "## 1.  Introduction"
   ]
  },
  {
   "cell_type": "markdown",
   "id": "2d2111a1",
   "metadata": {
    "id": "2d2111a1"
   },
   "source": [
    "This case study presents a real world alike scenario where important decisions are influenced by the data driven insights. We'll explore the transaction level data, sales data of a supermarket chain , and derive useful business insights."
   ]
  },
  {
   "cell_type": "markdown",
   "id": "d8d6643e",
   "metadata": {
    "id": "d8d6643e"
   },
   "source": [
    "### Objective"
   ]
  },
  {
   "cell_type": "markdown",
   "id": "bfa6c67b",
   "metadata": {
    "id": "bfa6c67b"
   },
   "source": [
    "The supermarket chain wants to run some promotions and they have a fixed budget for the same. Business wants insights from the data on how to most efficiently allocate these funds.\n",
    "\n",
    "The objectives are as following -\n",
    "\n",
    "•\tProvide insights to Marketing head for allocating funds. The funds should be allocated in such a way so that the promotional return can be maximized.\n",
    "\n",
    "•\tAny new Strategy or strategy changes suggestions to improve revenue.\n"
   ]
  },
  {
   "cell_type": "markdown",
   "id": "648be95c",
   "metadata": {
    "id": "648be95c"
   },
   "source": [
    "### Data \n",
    "\n",
    "•\tThe data belongs to a supermarket chain in Myanmar, with stores in 3 cities.\n",
    "\n",
    "•\tThis is a sampled data of 1000 transactions and 20 fields for each transaction\n",
    "\n",
    "•\tAll transactions belong to year 2019\n"
   ]
  },
  {
   "cell_type": "markdown",
   "id": "5ec23b6f",
   "metadata": {
    "id": "5ec23b6f"
   },
   "source": [
    "### Data Dictionary"
   ]
  },
  {
   "cell_type": "markdown",
   "id": "e30a544a",
   "metadata": {
    "id": "e30a544a"
   },
   "source": [
    "Reading data dictionary - "
   ]
  },
  {
   "cell_type": "code",
   "execution_count": null,
   "id": "2393ffa4",
   "metadata": {
    "id": "2393ffa4",
    "outputId": "648276c9-548d-438e-f939-93cb70102b2a"
   },
   "outputs": [],
   "source": [
    "data_dict = pd.read_csv(\"data_dict.csv\")\n",
    "\n",
    "data_dict.head(20)"
   ]
  },
  {
   "cell_type": "markdown",
   "id": "17be877a",
   "metadata": {
    "id": "17be877a"
   },
   "source": [
    "## 2. Data Wrangling"
   ]
  },
  {
   "cell_type": "markdown",
   "id": "2977b300",
   "metadata": {
    "id": "2977b300"
   },
   "source": [
    "Reading data file using pandas - "
   ]
  },
  {
   "cell_type": "markdown",
   "id": "0a584333",
   "metadata": {
    "id": "0a584333"
   },
   "source": [
    "(Please note the style function used to color code the quantitative fields. A really useful method to visualise the data with the data ingestion  )"
   ]
  },
  {
   "cell_type": "code",
   "execution_count": null,
   "id": "56b13bbd",
   "metadata": {
    "id": "56b13bbd",
    "outputId": "afefc20c-8e6d-49f7-b22f-4d0d11e030cf"
   },
   "outputs": [],
   "source": [
    "sales_data = pd.read_csv(\"supermarket_sales.csv\")\n",
    "\n",
    "sales_data.head(20).style.background_gradient(cmap='GnBu')"
   ]
  },
  {
   "cell_type": "markdown",
   "id": "bad745d3",
   "metadata": {
    "id": "bad745d3"
   },
   "source": [
    "##### Checking shape of data "
   ]
  },
  {
   "cell_type": "code",
   "execution_count": null,
   "id": "5fcd13be",
   "metadata": {
    "id": "5fcd13be",
    "outputId": "67a2f188-dd3f-4141-aa60-28c06e90e0c6"
   },
   "outputs": [],
   "source": [
    "shape=sales_data.shape\n",
    "print(f'The sales data has {shape[0]} rows and {shape[1]} columns')"
   ]
  },
  {
   "cell_type": "markdown",
   "id": "004b4cbe",
   "metadata": {
    "id": "004b4cbe"
   },
   "source": [
    "##### 5 Number summary"
   ]
  },
  {
   "cell_type": "code",
   "execution_count": null,
   "id": "d5c459ad",
   "metadata": {
    "id": "d5c459ad",
    "outputId": "05bc0311-61de-4461-eb9e-2aaba574986a",
    "scrolled": true
   },
   "outputs": [],
   "source": [
    "# Checking 5 point summary with describe function\n",
    "\n",
    "sales_data.describe().style.background_gradient(cmap='GnBu')"
   ]
  },
  {
   "cell_type": "markdown",
   "id": "1fc8e6ce",
   "metadata": {
    "id": "1fc8e6ce"
   },
   "source": [
    "Following are the observations from 5 number summary - \n",
    "\n",
    "* Unit Price has range of 10-99, with mean price of 55\n",
    "* Avg qty ordered per transaction is 6.5, the range being 1-14\n",
    "* Invoice total mean is 323, and the range is 10-1042\n",
    "* Gross Margin is constant as 4.76%\n",
    "* Mean rating is 7.46/10"
   ]
  },
  {
   "cell_type": "markdown",
   "id": "0ceaa81e",
   "metadata": {
    "id": "0ceaa81e"
   },
   "source": [
    "##### Data types and Null counts "
   ]
  },
  {
   "cell_type": "markdown",
   "id": "769ed052",
   "metadata": {
    "id": "769ed052"
   },
   "source": [
    ".info() function is used to check data types of all variables and null counts. "
   ]
  },
  {
   "cell_type": "code",
   "execution_count": null,
   "id": "6debafa6",
   "metadata": {
    "id": "6debafa6",
    "outputId": "96b96fab-8a44-47ee-91fd-f15fcc9ce468",
    "scrolled": false
   },
   "outputs": [],
   "source": [
    "sales_data.info()"
   ]
  },
  {
   "cell_type": "markdown",
   "id": "ad6f80c1",
   "metadata": {
    "id": "ad6f80c1"
   },
   "source": [
    "### Data Imputation "
   ]
  },
  {
   "cell_type": "markdown",
   "id": "03f06caa",
   "metadata": {
    "id": "03f06caa"
   },
   "source": [
    "Data imputation is a necessary step so as to avoid misleading insights. It also makes the dataframe compatible with most of the analytical and visual functions. "
   ]
  },
  {
   "cell_type": "markdown",
   "id": "1ba197e2",
   "metadata": {
    "id": "1ba197e2"
   },
   "source": [
    "##### Checking Null %s "
   ]
  },
  {
   "cell_type": "markdown",
   "id": "e714e81f",
   "metadata": {
    "id": "e714e81f"
   },
   "source": [
    "Let's first check the columns which have NULL values and then we can impute in those fields one by one - "
   ]
  },
  {
   "cell_type": "code",
   "execution_count": null,
   "id": "79d56e37",
   "metadata": {},
   "outputs": [],
   "source": [
    "sales_data.isnull().sum().sort_values(ascending = False)"
   ]
  },
  {
   "cell_type": "code",
   "execution_count": null,
   "id": "2d909d9a",
   "metadata": {
    "id": "2d909d9a",
    "outputId": "dd7f9fe2-9d61-4052-e372-a1633a1934c7"
   },
   "outputs": [],
   "source": [
    "# Null % for all columns in data\n",
    "\n",
    "null_perc = sales_data.isnull().sum()/len(sales_data)*100\n",
    "\n",
    "null_perc.sort_values(ascending = False)"
   ]
  },
  {
   "cell_type": "markdown",
   "id": "c7a6981e",
   "metadata": {
    "id": "c7a6981e"
   },
   "source": [
    "We have 7 fields with NULLs, with \"Branch\" having maximum NULLs ( 19.4%)"
   ]
  },
  {
   "cell_type": "markdown",
   "id": "e3143574",
   "metadata": {
    "id": "e3143574"
   },
   "source": [
    "Making a copy of data for Data Wrangling section and further EDA, so that the original data stays as it is in case it is required for further reference later. "
   ]
  },
  {
   "cell_type": "code",
   "execution_count": null,
   "id": "9f5cd458",
   "metadata": {
    "id": "9f5cd458"
   },
   "outputs": [],
   "source": [
    "sales_data_2 = sales_data.copy()"
   ]
  },
  {
   "cell_type": "markdown",
   "id": "cdf9bc7a",
   "metadata": {
    "id": "cdf9bc7a"
   },
   "source": [
    "##### Imputing NULLs for Ratings"
   ]
  },
  {
   "cell_type": "markdown",
   "id": "8492065a",
   "metadata": {
    "id": "8492065a"
   },
   "source": [
    "Ratings can be imputed with Mean rating values"
   ]
  },
  {
   "cell_type": "code",
   "execution_count": null,
   "id": "048cdb60",
   "metadata": {
    "id": "048cdb60",
    "outputId": "938185d6-9611-41d0-bd8e-e200b8e6f0c3"
   },
   "outputs": [],
   "source": [
    "sales_data_2['Rating'].mean()"
   ]
  },
  {
   "cell_type": "code",
   "execution_count": null,
   "id": "4f81da66",
   "metadata": {
    "id": "4f81da66"
   },
   "outputs": [],
   "source": [
    "sales_data_2['Rating'] = sales_data_2['Rating'].fillna(sales_data_2['Rating'].mean())"
   ]
  },
  {
   "cell_type": "markdown",
   "id": "2389ec95",
   "metadata": {
    "id": "2389ec95"
   },
   "source": [
    "##### Imputing NULLs for Tax"
   ]
  },
  {
   "cell_type": "markdown",
   "id": "9caf8c74",
   "metadata": {
    "id": "9caf8c74"
   },
   "source": [
    "From the data we can see that Tax is 5% of the Invoice value always. We can impute nulls using the same formula as below - "
   ]
  },
  {
   "cell_type": "code",
   "execution_count": null,
   "id": "16e4068b",
   "metadata": {
    "id": "16e4068b",
    "outputId": "7a6fd3dd-9007-4122-c4e1-33ff4c02b04c"
   },
   "outputs": [],
   "source": [
    "tax_perc = sales_data_2['Tax 5%']*100/sales_data_2['Total']\n",
    "tax_perc.head(20)"
   ]
  },
  {
   "cell_type": "code",
   "execution_count": null,
   "id": "604c713c",
   "metadata": {
    "id": "604c713c"
   },
   "outputs": [],
   "source": [
    "sales_data_2['Tax 5%'] = sales_data_2['Tax 5%'].fillna(sales_data_2['Total']*0.05)"
   ]
  },
  {
   "cell_type": "markdown",
   "id": "4f27e5e1",
   "metadata": {
    "id": "4f27e5e1"
   },
   "source": [
    "Mode is a common way to fill in Categorical variables unless there is a linkage among variables ( As in case of Branch).\n",
    "Thus, it is better to define a function which can be used multiple times for such variables - "
   ]
  },
  {
   "cell_type": "code",
   "execution_count": null,
   "id": "9d21b4b9",
   "metadata": {
    "id": "9d21b4b9"
   },
   "outputs": [],
   "source": [
    "# The function is written in such a way that it displays the mode and confirms that the mode imputation is complete\n",
    "\n",
    "def impute_mode(col):\n",
    "    print(\"The mode of this field is :  \" + sales_data_2[col].mode()[0])\n",
    "    sales_data_2[col] = sales_data_2[col].fillna(sales_data_2[col].mode()[0])\n",
    "    print(\"Mode value imputed\")\n",
    "    \n",
    "    "
   ]
  },
  {
   "cell_type": "markdown",
   "id": "e087e5a1",
   "metadata": {
    "id": "e087e5a1"
   },
   "source": [
    "##### Imputing NULLs for Payment"
   ]
  },
  {
   "cell_type": "markdown",
   "id": "8c4c368d",
   "metadata": {
    "id": "8c4c368d"
   },
   "source": [
    "Payments can be imputed with Mode as there is no logical way to find out what method was used."
   ]
  },
  {
   "cell_type": "code",
   "execution_count": null,
   "id": "bedd2556",
   "metadata": {
    "id": "bedd2556",
    "outputId": "8b84e1c1-d27b-4fc6-d258-7006cdc73c4c"
   },
   "outputs": [],
   "source": [
    "impute_mode('Payment')"
   ]
  },
  {
   "cell_type": "markdown",
   "id": "b0cc265f",
   "metadata": {
    "id": "b0cc265f"
   },
   "source": [
    "##### Imputing NULLs for Customer Type"
   ]
  },
  {
   "cell_type": "markdown",
   "id": "90117a3b",
   "metadata": {
    "id": "90117a3b"
   },
   "source": [
    "Customer Type has just 5% of Nulls and it is better to complete the data with mode imputation than leaving it as it is"
   ]
  },
  {
   "cell_type": "code",
   "execution_count": null,
   "id": "41549e70",
   "metadata": {
    "id": "41549e70",
    "outputId": "c8df769e-90c6-4bb9-a0b8-4ebc8a14e9c3",
    "scrolled": true
   },
   "outputs": [],
   "source": [
    "impute_mode('Customer type')"
   ]
  },
  {
   "cell_type": "markdown",
   "id": "97cd8188",
   "metadata": {
    "id": "97cd8188"
   },
   "source": [
    "##### Imputing NULLs for Gender"
   ]
  },
  {
   "cell_type": "markdown",
   "id": "a0066af5",
   "metadata": {
    "id": "a0066af5"
   },
   "source": [
    "Similar to Customer type, Gender also has lower % of NULLs and can be imputed with Mode"
   ]
  },
  {
   "cell_type": "code",
   "execution_count": null,
   "id": "99742a73",
   "metadata": {
    "id": "99742a73",
    "outputId": "8ff021e7-5a44-4142-b716-78b65397f945"
   },
   "outputs": [],
   "source": [
    "impute_mode('Gender')"
   ]
  },
  {
   "cell_type": "markdown",
   "id": "f93d88e9",
   "metadata": {
    "id": "f93d88e9"
   },
   "source": [
    "##### Imputing NULLs for Product Line"
   ]
  },
  {
   "cell_type": "code",
   "execution_count": null,
   "id": "8c5a75bb",
   "metadata": {
    "id": "8c5a75bb",
    "outputId": "6e2a4021-3374-4701-d1fa-5b4f5698d447",
    "scrolled": true
   },
   "outputs": [],
   "source": [
    "impute_mode('Product line')"
   ]
  },
  {
   "cell_type": "markdown",
   "id": "fd363371",
   "metadata": {
    "id": "fd363371"
   },
   "source": [
    "##### Imputing NULLs for Branch"
   ]
  },
  {
   "cell_type": "markdown",
   "id": "4725c3c4",
   "metadata": {
    "id": "4725c3c4"
   },
   "source": [
    "One can logically deduce that City and Branch must be linked. \n",
    "A quick look at the data using head() function would confirm the same as below - "
   ]
  },
  {
   "cell_type": "markdown",
   "id": "2c6fd232",
   "metadata": {
    "id": "2c6fd232"
   },
   "source": [
    "NOTE : drop_duplicates() can be used to find the unique values based on a set of fields. "
   ]
  },
  {
   "cell_type": "code",
   "execution_count": null,
   "id": "30bc6350",
   "metadata": {
    "id": "30bc6350",
    "outputId": "f9206c9c-4b36-4d3a-eb22-fda6ae71f8c4"
   },
   "outputs": [],
   "source": [
    "sales_data_2[['Branch','City']].drop_duplicates()"
   ]
  },
  {
   "cell_type": "markdown",
   "id": "50d5592d",
   "metadata": {
    "id": "50d5592d"
   },
   "source": [
    "Based on the above values, we can write the following logic to impute Branch as per the City values - "
   ]
  },
  {
   "cell_type": "code",
   "execution_count": null,
   "id": "a99f1194",
   "metadata": {
    "id": "a99f1194",
    "outputId": "6c06b1c0-d30f-4c71-96ca-d3a3316929b3",
    "scrolled": false
   },
   "outputs": [],
   "source": [
    "\n",
    "for i in range(len(sales_data_2['Branch'])):\n",
    "\n",
    "    if pd.isna(sales_data_2['Branch'][i]) == True :\n",
    "        if(sales_data_2['City'][i].strip() == \"Yangon\"):\n",
    "            sales_data_2['Branch'][i] = \"A\"\n",
    "            print(\"NA imputed as Branch A\")\n",
    "\n",
    "        elif(sales_data_2['City'][i].strip() == \"Naypyitaw\"):\n",
    "            sales_data_2['Branch'][i] = \"C\"\n",
    "            print(\"NA imputed as Branch C\")\n",
    "\n",
    "        elif(sales_data_2['City'][i].strip() == \"Mandalay\"):\n",
    "            sales_data_2['Branch'][i] = \"B\"\n",
    "            print(\"NA imputed as Branch B\")\n",
    "\n",
    "        else:\n",
    "            print(\"Invalid city\")\n"
   ]
  },
  {
   "cell_type": "markdown",
   "id": "7b346962",
   "metadata": {
    "id": "7b346962"
   },
   "source": [
    "##### Verifying NULL% after imputations"
   ]
  },
  {
   "cell_type": "markdown",
   "id": "14f86cc7",
   "metadata": {
    "id": "14f86cc7"
   },
   "source": [
    "Finally we can verify that all columns have 0% NULLs suing the same logic as earlier for NULL % calculation - "
   ]
  },
  {
   "cell_type": "code",
   "execution_count": null,
   "id": "789867e2",
   "metadata": {
    "id": "789867e2",
    "outputId": "6827352e-8ec8-4c9b-8c79-fdf60e6971e2",
    "scrolled": false
   },
   "outputs": [],
   "source": [
    "# Null % for all columns in data\n",
    "\n",
    "null_perc = sales_data_2.isnull().sum()/len(sales_data_2)*100\n",
    "\n",
    "null_perc.sort_values(ascending = False)"
   ]
  },
  {
   "cell_type": "markdown",
   "id": "4c5cf2eb",
   "metadata": {
    "id": "4c5cf2eb"
   },
   "source": [
    "### Adding fields for timeseries analysis"
   ]
  },
  {
   "cell_type": "markdown",
   "id": "a1ff7629",
   "metadata": {
    "id": "a1ff7629"
   },
   "source": [
    "Time based analysis becomes really crucial for a sales data. It can inform about patterns, peak & low seasons, events that trigger sales to be high or low etc. \n",
    "It is useful to extract data and have separate time fields for such analysis as done below - "
   ]
  },
  {
   "cell_type": "code",
   "execution_count": null,
   "id": "878584f9",
   "metadata": {
    "id": "878584f9"
   },
   "outputs": [],
   "source": [
    "\n",
    "# Convert date columns into date time \n",
    "\n",
    "sales_data_2['Date'] = pd.to_datetime(sales_data_2['Date'])\n",
    "\n",
    "#Add a month,day and weekday columns\n",
    "sales_data_2['month']=sales_data_2['Date'].dt.month\n",
    "sales_data_2['day']=sales_data_2['Date'].dt.day\n",
    "sales_data_2['weekday']=sales_data_2['Date'].dt.day_name()\n",
    "\n",
    "#Add a hour and minute columns \n",
    "sales_data_2['hour']=sales_data_2['Time'].str[0:2]\n",
    "sales_data_2['minute']=sales_data_2['Time'].str[3:5]\n",
    "#Make it int values\n",
    "sales_data_2['hour']=pd.to_numeric(sales_data_2['hour'])\n",
    "sales_data_2['minute']=pd.to_numeric(sales_data_2['minute'])"
   ]
  },
  {
   "cell_type": "markdown",
   "id": "04281e46",
   "metadata": {
    "id": "04281e46"
   },
   "source": [
    "##### Checking final data types and NULL counts"
   ]
  },
  {
   "cell_type": "code",
   "execution_count": null,
   "id": "65eb867a",
   "metadata": {
    "id": "65eb867a",
    "outputId": "e1c1f820-cf49-4a64-b462-da610692e2f9"
   },
   "outputs": [],
   "source": [
    "sales_data_2.info()"
   ]
  },
  {
   "cell_type": "markdown",
   "id": "483e67dd",
   "metadata": {
    "id": "483e67dd"
   },
   "source": [
    "## 2. Univariate Analysis ( Quantitative )"
   ]
  },
  {
   "cell_type": "markdown",
   "id": "f7218749",
   "metadata": {
    "id": "f7218749"
   },
   "source": [
    "We know that Univariate Analysis is simplest form of analysing data. It restricts the analysis to only 1 variable as the name states.\n",
    "\n",
    "It doesn't take into account the mutual relationships and associations among variables. Rather it focuses on finding patterns through a particular field.\n"
   ]
  },
  {
   "cell_type": "markdown",
   "id": "6323b1dc",
   "metadata": {
    "id": "6323b1dc"
   },
   "source": [
    "##### Function for Univariate Charts of quantitative fields - "
   ]
  },
  {
   "cell_type": "markdown",
   "id": "0e096557",
   "metadata": {
    "id": "0e096557"
   },
   "source": [
    "For our Univariate analysis in this case, we are going to plot Violinplot and Stripplot using Seaborn library.\n",
    "Violinplot is a hybrid plot of Box lot & KDE plot which gives us insights about quartiles as well as distribution of a variable.\n",
    "Stripplot is considered to be  good complement to Violinplot because one can see the individual data points along with the distribution. "
   ]
  },
  {
   "cell_type": "code",
   "execution_count": null,
   "id": "4241a90c",
   "metadata": {
    "id": "4241a90c"
   },
   "outputs": [],
   "source": [
    "# Defining function for Univariate Analysis of Quantitative Variables\n",
    "\n",
    "def univariate_quant(col,hue=None):\n",
    "\n",
    "    fig, axes=plt.subplots(nrows =3,ncols=1,figsize=(20,12))                     # Defining 2 subplots, changing fig size\n",
    "    axes[1].set_title( \"Boxenplot of \"+ col , size =14)                          # Chart title for Subplot 1\n",
    "    sns.stripplot(sales_data_2[col],ax=axes[1], color=\"#4CB391\")                 # Distplot in subplot 1\n",
    "\n",
    "\n",
    "    axes[0].set_title(\"Violinplot for  \" + col )                                 #  Title for Subplot 2\n",
    "    sns.violinplot(sales_data_2[col],ax=axes[0], color=\"grey\")                   # Violinplot in Subplot 2\n",
    "    \n",
    "    axes[2].set_title(\"Distplot for \" + col)\n",
    "    sns.distplot(sales_data_2[col], ax = axes[2])\n",
    "    \n",
    "                      \n",
    "    plt.tight_layout()\n",
    "    fig.savefig(\"univariate_\"+col+\".png\")"
   ]
  },
  {
   "cell_type": "markdown",
   "id": "a2c22f66",
   "metadata": {
    "id": "a2c22f66"
   },
   "source": [
    "##### Unit Price"
   ]
  },
  {
   "cell_type": "markdown",
   "id": "cf480e6c",
   "metadata": {
    "id": "cf480e6c"
   },
   "source": [
    "Univariate analysis of Unit Price will help us understand in general how the products are priced in supermarket catalogue "
   ]
  },
  {
   "cell_type": "markdown",
   "id": "ab3d70aa",
   "metadata": {
    "id": "ab3d70aa"
   },
   "source": [
    "Insights- \n",
    "\n",
    "* Unit price doesn't follow a normal distribution, it is more or less similar frequency for range 20-80\n"
   ]
  },
  {
   "cell_type": "code",
   "execution_count": null,
   "id": "9a1b179f",
   "metadata": {
    "id": "9a1b179f",
    "outputId": "b79a74a1-4eb0-43b3-fb22-52300d2abcb5"
   },
   "outputs": [],
   "source": [
    "univariate_quant('Unit price')"
   ]
  },
  {
   "cell_type": "markdown",
   "id": "5959af5f",
   "metadata": {
    "id": "5959af5f"
   },
   "source": [
    "##### Invoice Amount"
   ]
  },
  {
   "cell_type": "markdown",
   "id": "eaa11433",
   "metadata": {
    "id": "eaa11433"
   },
   "source": [
    "Univariate analysis of Invoice Amount will help us understand in general how much is the bill amount per transaction "
   ]
  },
  {
   "cell_type": "markdown",
   "id": "26e70024",
   "metadata": {
    "id": "26e70024"
   },
   "source": [
    "Insights- \n",
    "\n",
    "* It has a right skewed distribution, with majority of values lying in under 500 range.\n"
   ]
  },
  {
   "cell_type": "code",
   "execution_count": null,
   "id": "5c408f5a",
   "metadata": {
    "id": "5c408f5a",
    "outputId": "8672fde7-6803-41d6-a819-32d783e12d9e"
   },
   "outputs": [],
   "source": [
    "univariate_quant('Total')"
   ]
  },
  {
   "cell_type": "markdown",
   "id": "ffffcbd5",
   "metadata": {
    "id": "ffffcbd5"
   },
   "source": [
    "##### Cost of Goods sold"
   ]
  },
  {
   "cell_type": "markdown",
   "id": "3b8d5428",
   "metadata": {
    "id": "3b8d5428"
   },
   "source": [
    "Insights- \n",
    "\n",
    "* It also has a right skewed distribution, with majority of values lying in under 600 range.\n",
    "* It is apparent that  Invoice amount and COGS might be realted with some mathermatical rule/equation.  \n"
   ]
  },
  {
   "cell_type": "code",
   "execution_count": null,
   "id": "d459fb7f",
   "metadata": {
    "id": "d459fb7f",
    "outputId": "5514b693-b6a6-45ea-97ae-c7e725ebc28f",
    "scrolled": true
   },
   "outputs": [],
   "source": [
    "univariate_quant('cogs')"
   ]
  },
  {
   "cell_type": "markdown",
   "id": "1ce83970",
   "metadata": {
    "id": "1ce83970"
   },
   "source": [
    "##### Gross Income"
   ]
  },
  {
   "cell_type": "markdown",
   "id": "d8f49957",
   "metadata": {
    "id": "d8f49957"
   },
   "source": [
    "Insights- \n",
    "\n",
    "* Since gross income is derived out of Invoice amount and COGS, the distribution is similar. \n"
   ]
  },
  {
   "cell_type": "code",
   "execution_count": null,
   "id": "fb8b8def",
   "metadata": {
    "id": "fb8b8def",
    "outputId": "54bdd2de-8094-4c6a-e6ab-c1d00baa19fa"
   },
   "outputs": [],
   "source": [
    "univariate_quant('gross income')"
   ]
  },
  {
   "cell_type": "markdown",
   "id": "1c479358",
   "metadata": {
    "id": "1c479358"
   },
   "source": [
    "##### Ratings"
   ]
  },
  {
   "cell_type": "markdown",
   "id": "d6a4ca62",
   "metadata": {
    "id": "d6a4ca62"
   },
   "source": [
    "Insights- \n",
    "\n",
    "* Ratings do have a similar to normal distribution with mean at around 7.5 rating.. \n",
    "* There are much lesser ratings in 3-5 range which is a good sign for the company. \n"
   ]
  },
  {
   "cell_type": "code",
   "execution_count": null,
   "id": "ecff28ac",
   "metadata": {
    "id": "ecff28ac",
    "outputId": "048ea8f0-0cce-4e56-8ce8-82899d498920"
   },
   "outputs": [],
   "source": [
    "univariate_quant('Rating')"
   ]
  },
  {
   "cell_type": "markdown",
   "id": "1592532e",
   "metadata": {
    "id": "1592532e"
   },
   "source": [
    "##### Quantity purchased"
   ]
  },
  {
   "cell_type": "markdown",
   "id": "fa26d284",
   "metadata": {
    "id": "fa26d284"
   },
   "source": [
    "Insights- \n",
    "\n",
    "* The distribution is relatively a flatter one, the range 1-13 is most dense. \n",
    "* Mean and peak coincide at 7, meaning 7 is the most frequent order size. \n"
   ]
  },
  {
   "cell_type": "code",
   "execution_count": null,
   "id": "dcbd5d1c",
   "metadata": {
    "id": "dcbd5d1c",
    "outputId": "8e359cec-63f3-47c4-a23f-05cda895b5ca"
   },
   "outputs": [],
   "source": [
    "univariate_quant('Quantity')"
   ]
  },
  {
   "cell_type": "markdown",
   "id": "4e6b0a4f",
   "metadata": {
    "id": "4e6b0a4f"
   },
   "source": [
    "##### Alternate Charts - \n",
    "\n",
    "\n",
    "For Quantitative Univariate analysis there is always a range of options to choose from - Box Plot, Histograms, Swarmplots, KDE, Distplot etc. "
   ]
  },
  {
   "cell_type": "markdown",
   "id": "fe2ea955",
   "metadata": {
    "id": "fe2ea955"
   },
   "source": [
    "## 3. Univariate Analysis ( Categorical )"
   ]
  },
  {
   "cell_type": "markdown",
   "id": "dee7f176",
   "metadata": {
    "id": "dee7f176"
   },
   "source": [
    "The Univariate analysis of qualitative variables is fundamentally different from quantitative variables. \n",
    "\n",
    "While for quantitative charts, they are more statistical in nature as we have seen in last section, for categorical analysis  we  simply plot the frequencies via bar/Pie chart."
   ]
  },
  {
   "cell_type": "markdown",
   "id": "bdb767e5",
   "metadata": {
    "id": "bdb767e5"
   },
   "source": [
    "The purpose is to understand the bias in the data with respect to various categories-  "
   ]
  },
  {
   "cell_type": "markdown",
   "id": "0a2dc425",
   "metadata": {
    "id": "0a2dc425"
   },
   "source": [
    "##### Across City"
   ]
  },
  {
   "cell_type": "markdown",
   "id": "968348c9",
   "metadata": {
    "id": "968348c9"
   },
   "source": [
    "Insights - \n",
    "\n",
    "All cities have almost equal number of transactions. \n",
    "In other words, the footprint of the supermarket is similar across cities. "
   ]
  },
  {
   "cell_type": "code",
   "execution_count": null,
   "id": "1eaaf0ba",
   "metadata": {
    "id": "1eaaf0ba",
    "outputId": "db347fe0-5a44-4953-beae-f97a503c95ec"
   },
   "outputs": [],
   "source": [
    "sales_data_2['City'].value_counts().plot.bar()"
   ]
  },
  {
   "cell_type": "markdown",
   "id": "bc46f125",
   "metadata": {
    "id": "bc46f125"
   },
   "source": [
    "##### Across Gender"
   ]
  },
  {
   "cell_type": "markdown",
   "id": "3fc63564",
   "metadata": {
    "id": "3fc63564"
   },
   "source": [
    "Insights - \n",
    "\n",
    "Females transact more as compared to males. \n",
    "There can be multiple reasons for this which can be a part of further analysis - \n",
    "* Is supermarket known for female oriented products?\n",
    "* Does region in general have more females than males ?\n",
    "* It might be a surprise insight for the supermarket and a particular factor might be causing it - Store aesthetics, offers on a select catalogue etc. "
   ]
  },
  {
   "cell_type": "code",
   "execution_count": null,
   "id": "09d731d8",
   "metadata": {
    "id": "09d731d8",
    "outputId": "6c897f60-b9d1-416b-b84f-e93ad96720ec"
   },
   "outputs": [],
   "source": [
    "sales_data_2['Gender'].value_counts().head(10).plot.bar()"
   ]
  },
  {
   "cell_type": "markdown",
   "id": "5b47cc18",
   "metadata": {
    "id": "5b47cc18"
   },
   "source": [
    "##### Across Product Line"
   ]
  },
  {
   "cell_type": "markdown",
   "id": "4af7a171",
   "metadata": {
    "id": "4af7a171"
   },
   "source": [
    "Insights - \n",
    "\n",
    "There are 2 types of product lines because there is a huge gap in transaction among top 3 and bottom 3 product lines. \n",
    "\n",
    "1. Health & Beauty , Sports , Fashion constitute majority of the transactions and are high selling product lines for the supermarket. \n",
    "\n",
    "2. The other 3 product lines are not selling as much. \n",
    "\n",
    "3. Health and Beauty is top selling product line with a healthy margin. \n",
    "\n",
    "The possible reasons for this might be following - \n",
    " \n",
    " * There is differentiation on focus by supermarket - there are more products on sale from top 3 as compared to bottom 3 \n",
    " * There are special offers on top 3 which are driving the sales. \n",
    " * The prices and quality for top 3 are more competetive than the rest. \n",
    " * The management is more focused and concerned with the growth of top 3 rather than others ( Possibly due to low margins ) "
   ]
  },
  {
   "cell_type": "code",
   "execution_count": null,
   "id": "90b1292a",
   "metadata": {
    "id": "90b1292a",
    "outputId": "321c9de1-8076-444d-981b-9ef04e9b4105"
   },
   "outputs": [],
   "source": [
    "sales_data_2['Product line'].value_counts().head(10).plot.bar()"
   ]
  },
  {
   "cell_type": "markdown",
   "id": "4cf2e0b3",
   "metadata": {
    "id": "4cf2e0b3"
   },
   "source": [
    "##### Across Payment Modes"
   ]
  },
  {
   "cell_type": "markdown",
   "id": "2f9deb2d",
   "metadata": {
    "id": "2f9deb2d"
   },
   "source": [
    "Insights - \n",
    "\n",
    "* E Wallet is most prefered payment mode while Credit card is least. \n"
   ]
  },
  {
   "cell_type": "code",
   "execution_count": null,
   "id": "c43a271e",
   "metadata": {
    "id": "c43a271e",
    "outputId": "04c3883f-ce47-4093-eb72-a685e2b5e9ae",
    "scrolled": false
   },
   "outputs": [],
   "source": [
    "sales_data_2['Payment'].value_counts().plot.bar()"
   ]
  },
  {
   "cell_type": "markdown",
   "id": "9276f512",
   "metadata": {
    "id": "9276f512"
   },
   "source": [
    "##### Across Customer Type"
   ]
  },
  {
   "cell_type": "markdown",
   "id": "300358d6",
   "metadata": {
    "id": "300358d6"
   },
   "source": [
    "Insights - \n",
    "\n",
    "2/3rd of the transactions are done by Normal Members and only 1/3rd by Members"
   ]
  },
  {
   "cell_type": "code",
   "execution_count": null,
   "id": "7508857d",
   "metadata": {
    "id": "7508857d",
    "outputId": "f697e14a-672c-483c-b5f9-07c51689c133",
    "scrolled": false
   },
   "outputs": [],
   "source": [
    "sales_data_2['Customer type'].value_counts().plot.bar()"
   ]
  },
  {
   "cell_type": "markdown",
   "id": "b5cb58b5",
   "metadata": {
    "id": "b5cb58b5"
   },
   "source": [
    "##### Unique Customers who are Member/Non-Members "
   ]
  },
  {
   "cell_type": "markdown",
   "id": "d228c89f",
   "metadata": {
    "id": "d228c89f"
   },
   "source": [
    "While we have already looked at the number of transactions, it is also worthwhile to look at the number of Member/Normal customers that the Supermarket has.\n",
    "\n",
    "There is a subtle difference between number of transactions and number of customers, which is to be noted. \n"
   ]
  },
  {
   "cell_type": "markdown",
   "id": "e3daba28",
   "metadata": {
    "id": "e3daba28"
   },
   "source": [
    "The count of distinct Member/Non Member customers can be obtained by grouping the data by Customer Type and then using nunique() function - "
   ]
  },
  {
   "cell_type": "code",
   "execution_count": null,
   "id": "8b9c3fbe",
   "metadata": {
    "id": "8b9c3fbe",
    "outputId": "f18167e1-9bd1-4596-f38b-9cb90c0df5bc"
   },
   "outputs": [],
   "source": [
    "customer_members = sales_data_2[['CustomerID','Customer type']].groupby(['Customer type'], as_index = False).nunique()\n",
    "sns.barplot(x=customer_members[\"Customer type\"], y='CustomerID',data=customer_members) "
   ]
  },
  {
   "cell_type": "markdown",
   "id": "2bcf8c82",
   "metadata": {
    "id": "2bcf8c82"
   },
   "source": [
    "Insights - \n",
    "\n",
    "There are about 250 Members and 375 Normal customers with the Supermarket. \n",
    "\n",
    "It can be seen that the ratio of Members is more than the Transactions done by Members. \n",
    "\n",
    "It is essentially telling us that Members are not contibuting to more transactions as would be expected from those. "
   ]
  },
  {
   "cell_type": "markdown",
   "id": "5f9e8a94",
   "metadata": {
    "id": "5f9e8a94"
   },
   "source": [
    "##### Alternate Charts - \n",
    "\n",
    "Some other ways to look at categorical distributions are - Pie Chart, Countplot, Donut Chart etc. "
   ]
  },
  {
   "cell_type": "markdown",
   "id": "c799b527",
   "metadata": {
    "id": "c799b527"
   },
   "source": [
    "###  Stores Location on map"
   ]
  },
  {
   "cell_type": "markdown",
   "id": "72d8d6fb",
   "metadata": {
    "id": "72d8d6fb"
   },
   "source": [
    "Folium is one of the libraries which provides us with the ability of plotting Geological charts. \n",
    "\n",
    "We will use the same here to understand on the map where exactly the 3 stores are located and how is the proximity like. "
   ]
  },
  {
   "cell_type": "markdown",
   "id": "b600e1aa",
   "metadata": {
    "id": "b600e1aa"
   },
   "source": [
    "First, we'll need to create a dataframe with all the cities, along with their coordinates. \n",
    "\n",
    "Drop_duplicates can be used here to get the unique rows - "
   ]
  },
  {
   "cell_type": "code",
   "execution_count": null,
   "id": "c266b762",
   "metadata": {
    "id": "c266b762",
    "outputId": "fcce1e86-c358-4ce1-d66b-79f9caceb3db"
   },
   "outputs": [],
   "source": [
    "Cities_geo= sales_data_2[['City','Longitude','Latitude']].drop_duplicates()\n",
    "Cities_geo"
   ]
  },
  {
   "cell_type": "markdown",
   "id": "5303dca5",
   "metadata": {
    "id": "5303dca5"
   },
   "source": [
    "In the next step, the map can be plotted using folium.map(). The parameters are passed accordingly. ( Use Shift + tab for more details)\n",
    "\n",
    "folium.Map() just plots the chart. We also need to put city markers on the map. This done by putting markers one by one using folium.marker() function - "
   ]
  },
  {
   "cell_type": "code",
   "execution_count": null,
   "id": "12290319",
   "metadata": {
    "id": "12290319",
    "outputId": "cb81ce2e-206d-419f-aa09-62f0eee3962a",
    "scrolled": false
   },
   "outputs": [],
   "source": [
    "geo_map = folium.Map(location =[16.8409,96.1735], zoom_start = 5, tiles = 'CartoDB Positron', control_scale = True)\n",
    "\n",
    "for (i, j) in Cities_geo.iterrows():\n",
    "  folium.Marker(location = [j.loc['Latitude'], j.loc['Longitude']], popup = j.loc['City'],tooltip = 'click',\n",
    "                icon = folium.Icon(icon = 'glyphicon-shopping-cart', prefix = 'glyphicon')).add_to(geo_map)\n",
    "\n",
    "geo_map\n"
   ]
  },
  {
   "cell_type": "markdown",
   "id": "f93a531c",
   "metadata": {
    "id": "f93a531c"
   },
   "source": [
    "Insights - \n",
    "\n",
    "The cities are distributed across lengths of Myanmar and are not close to each other. \n",
    "\n",
    "Yangon is the only coastal city where the chain is present, other ones are located in the middle of Myanmar. \n",
    "\n",
    "Company can expand in North and East of Myanmar as there is no presence in those areas. \n",
    "\n",
    "Also, a big coastal city Sittwe is also an option for later expansion. \n",
    "\n"
   ]
  },
  {
   "cell_type": "markdown",
   "id": "b249ba5b",
   "metadata": {
    "id": "b249ba5b"
   },
   "source": [
    "## 4. Bivariate Analysis"
   ]
  },
  {
   "cell_type": "markdown",
   "id": "738dff66",
   "metadata": {
    "id": "738dff66"
   },
   "source": [
    "It is one of the simplest form of statistical analysis where 2 variables are involved. It looks for relationship among the 2 variables. The applications involve hypothesis validation of association among variables, finding trends, regression etc."
   ]
  },
  {
   "cell_type": "markdown",
   "id": "6bc4fe90",
   "metadata": {
    "id": "6bc4fe90"
   },
   "source": [
    "### Heatmap"
   ]
  },
  {
   "cell_type": "markdown",
   "id": "a0d2ab4c",
   "metadata": {
    "id": "a0d2ab4c"
   },
   "source": [
    "The purpose of Heatmap here is to look for any significant correlations among continuous variables in our data. "
   ]
  },
  {
   "cell_type": "markdown",
   "id": "67ea7398",
   "metadata": {
    "id": "67ea7398"
   },
   "source": [
    "Since majority of the quantitative variables in this sales data are mathematically related to each other, the use of Heatmap in this case is not of much help. \n",
    "\n",
    "For example following related variables - \n",
    "* Invoice amount = Unit Price * Quantity\n",
    "* COGS = Invoice Amount * 0.0476\n",
    "* Gross Income = Invoice Amount - COGS\n"
   ]
  },
  {
   "cell_type": "code",
   "execution_count": null,
   "id": "16dc7503",
   "metadata": {
    "id": "16dc7503",
    "outputId": "17dd33e0-9de7-46f9-cd5d-08a44031356b"
   },
   "outputs": [],
   "source": [
    "heatmap_data=sales_data_2.corr()\n",
    "sns.heatmap(heatmap_data, cmap='YlGnBu')"
   ]
  },
  {
   "cell_type": "markdown",
   "id": "bab96794",
   "metadata": {
    "id": "bab96794"
   },
   "source": [
    "As expected, we see high correlation in almost all sales related fields because they are derived from each other."
   ]
  },
  {
   "cell_type": "markdown",
   "id": "f0a424d1",
   "metadata": {
    "id": "f0a424d1"
   },
   "source": [
    "##### Function for bivariate analysis - "
   ]
  },
  {
   "cell_type": "markdown",
   "id": "ea02fee5",
   "metadata": {
    "id": "ea02fee5"
   },
   "source": [
    "There are 4 important metrics that can provide maximum insights in this sales data - \n",
    "\n",
    "1. Sales \n",
    "2. AOV - Average Order Value\n",
    "3. Mean Order Quantity\n",
    "4. Ratings\n",
    "\n",
    "It would be worthwhile to plot these against multiple categorical variables to see if those categories have an impact on these 4 metrics. \n",
    "\n",
    "It can be a great way to find out what's working for the chain and what is not. "
   ]
  },
  {
   "cell_type": "code",
   "execution_count": null,
   "id": "1c02936b",
   "metadata": {
    "id": "1c02936b"
   },
   "outputs": [],
   "source": [
    "\n",
    "\n",
    "def grouped_analysis(col,hue=None):\n",
    "    \n",
    "    plt.figure(figsize=(20,10))\n",
    "    \n",
    "    def custom_fmt(x):                                                     # Custom format function to show values in pie chart\n",
    "        return '{:.0f}%\\n({:.0f})'.format(x, sales_grouped['Total'].sum()*x/100)  # It is used in autopct parameter in pie chart\n",
    "\n",
    "    \n",
    "    sales_grouped= sales_data_2[[col,'Total']].groupby(col).sum()                # Sales grouped by col\n",
    "    mean_ratings = sales_data_2[[col,'Rating']].groupby(col).mean()              # Avg ratings grouped by col\n",
    "    aov  = sales_data_2[[col,'Total']].groupby(col).mean()                       # AOV by col\n",
    "    mean_units_qty = sales_data_2[[col,'Quantity']].groupby(col).mean()          # Mean order qty by col\n",
    "\n",
    "    fig, axes=plt.subplots(nrows =2,ncols=2,figsize=(20,12))                      # Defining 4 subplots, changing fig size\n",
    "    axes[0,0].set_title(\"Sales by \" + col , size = 25)                            # Chart title for Subplot 1\n",
    "    axes[0,0].set_xticklabels(axes[0,0].get_xticklabels(), fontsize=20)\n",
    "   \n",
    "    axes[0,0].pie(sales_grouped['Total'], labels = sales_grouped.index, autopct= custom_fmt,textprops={'fontsize': 14})\n",
    "\n",
    "\n",
    "    axes[0,1].set_title(\"AOV by \"  + col,size = 25 )                              #  Title for Subplot 2\n",
    "    axes[0,1].set_xticklabels(axes[0,0].get_xticklabels(), fontsize=20)    \n",
    "    axes[0,1].set_xlabel( axes[0,0].get_xticklabels(),fontsize=20)\n",
    "    axes[0,1].set_ylabel( axes[0,0].get_yticklabels(),fontsize=20)\n",
    "    g=sns.barplot(x=aov.index, y='Total', color=\"#f7a516\",data=aov,ax=axes[0,1]) \n",
    "    g.set_xticklabels(\n",
    "    labels=aov.index, rotation=45)                                                # Rotating lables so that they dont overlap\n",
    "    \n",
    "    \n",
    "    axes[1,0].set_title(\"Mean Ratings by \" + col,size = 25 )                      # Title for Subplot 3\n",
    "    axes[1,0].set_xlabel( axes[0,0].get_xticklabels(),fontsize=20)\n",
    "    axes[1,0].set_ylabel( axes[0,0].get_yticklabels(),fontsize=20)\n",
    "    sns.barplot(y=mean_ratings.index, x='Rating', color=\"#305cb0\",data=mean_ratings,ax=axes[1,0],orient='h')\n",
    "\n",
    "    \n",
    "    axes[1,1].set_title(\"Mean Units Qty by \" + col,size = 25 )                    # Title for Subplot 4\n",
    "    axes[1,1].set_xlabel( axes[0,0].get_xticklabels(),fontsize=20)\n",
    "    axes[1,1].set_ylabel( axes[0,0].get_yticklabels(),fontsize=20)\n",
    "    sns.barplot(y=mean_units_qty.index, x='Quantity', color=\"#712f80\",data=mean_units_qty,ax=axes[1,1],orient='h')\n",
    "\n",
    "    plt.tight_layout()\n",
    "    fig.savefig(\"grouped_analysis\"+col+\".png\") "
   ]
  },
  {
   "cell_type": "markdown",
   "id": "6161f2cc",
   "metadata": {
    "id": "6161f2cc"
   },
   "source": [
    "#### Across City"
   ]
  },
  {
   "cell_type": "markdown",
   "id": "fbeab5b3",
   "metadata": {
    "id": "fbeab5b3"
   },
   "source": [
    "Insights - \n",
    "\n",
    "* Although the number of transactions were similar as we saw earlier in Univariate analysis, Mandalay city have significantly more sales at 39%\n",
    "\n",
    "* Yangon sales are least at 28%\n",
    "\n",
    "* The difference in sales is essentially driven by the differences in AOV, which is maximum for Mandalay and really low for Yangon\n",
    "\n",
    "* Further, we can say that the higher AOV is driven by higher mean quantity as seen in the Right bottom chart\n",
    "\n",
    "* Ratings also reflect a similar story, with highest ratings for Mandalay and least for Yangon. \n",
    "\n",
    "* All of above points point to a big scope of improvement in Yangon for the supermarket chain. "
   ]
  },
  {
   "cell_type": "code",
   "execution_count": null,
   "id": "868dfe88",
   "metadata": {
    "id": "868dfe88",
    "outputId": "06ac3953-bd11-4cd2-caab-41f37632c1a4"
   },
   "outputs": [],
   "source": [
    "grouped_analysis('City')"
   ]
  },
  {
   "cell_type": "markdown",
   "id": "b2c91c4d",
   "metadata": {
    "id": "b2c91c4d"
   },
   "source": [
    "#### Across Customer Type"
   ]
  },
  {
   "cell_type": "markdown",
   "id": "2e2d8281",
   "metadata": {
    "id": "2e2d8281"
   },
   "source": [
    "Insights - \n",
    "\n",
    "* Members are contributing to 43% of sales, driven by really high AOV of 500 a compared to 300 of a normal customer\n",
    "\n",
    "* The difference in AOV is driven by the difference in Average order quantity\n",
    "\n",
    "* Ratings are similar by Member and Normal customers.\n",
    "\n"
   ]
  },
  {
   "cell_type": "code",
   "execution_count": null,
   "id": "e686cd0e",
   "metadata": {
    "id": "e686cd0e",
    "outputId": "4641baa3-2a5b-4403-8493-d379e853e491",
    "scrolled": false
   },
   "outputs": [],
   "source": [
    "grouped_analysis('Customer type')"
   ]
  },
  {
   "cell_type": "markdown",
   "id": "cae50527",
   "metadata": {
    "id": "cae50527"
   },
   "source": [
    "#### Across Gender"
   ]
  },
  {
   "cell_type": "markdown",
   "id": "add9e446",
   "metadata": {
    "id": "add9e446"
   },
   "source": [
    "Insights - \n",
    "\n",
    "* As expected after Univariate analysis, females are driving more sales at 55%\n",
    "\n",
    "* The AOV and average order quantity are also significantly higher for females\n",
    "\n",
    "* The ratings are not impacted by Gender\n",
    "\n",
    "\n"
   ]
  },
  {
   "cell_type": "code",
   "execution_count": null,
   "id": "b2826a8d",
   "metadata": {
    "id": "b2826a8d",
    "outputId": "fb02434d-9d97-4a11-b32d-16b489bcfeab"
   },
   "outputs": [],
   "source": [
    "grouped_analysis('Gender')"
   ]
  },
  {
   "cell_type": "markdown",
   "id": "4f6af5c4",
   "metadata": {
    "id": "4f6af5c4"
   },
   "source": [
    "#### Across Product Line"
   ]
  },
  {
   "cell_type": "markdown",
   "id": "b8df3a2b",
   "metadata": {
    "id": "b8df3a2b"
   },
   "source": [
    "Insights - \n",
    "\n",
    "* Health and Beauty is the most prominent segment with 30% of sales.\n",
    "* 3 bottom segments - Food & Beverages, Electronics, and Home & lifestyle together make 30% of the sales. \n",
    "* Food & Beverages have the maximum AOV among all categories, Home and lifestyle also has a relatively higher AOV. \n",
    "* Customers love these 2 segments as the ratings are also highest for these 2 segments. \n",
    "* If the company could drive more transactions in above 2 segments, it will boost the sales significantly due to their higher AOV\n",
    "\n",
    "\n",
    "\n",
    "\n"
   ]
  },
  {
   "cell_type": "code",
   "execution_count": null,
   "id": "ef6c9031",
   "metadata": {
    "id": "ef6c9031",
    "outputId": "b8233cdc-16ca-4103-c6fa-f6e23acf9b28"
   },
   "outputs": [],
   "source": [
    "grouped_analysis('Product line')"
   ]
  },
  {
   "cell_type": "markdown",
   "id": "fbdafac9",
   "metadata": {
    "id": "fbdafac9"
   },
   "source": [
    "#### Across Payment Modes"
   ]
  },
  {
   "cell_type": "markdown",
   "id": "e5487971",
   "metadata": {
    "id": "e5487971"
   },
   "source": [
    "Insights - \n",
    "\n",
    "* Payment mode doesn't seem to have an impact in any metric as modes have equal distribution in sales, ratings etc. \n",
    "* AOV for Credti cards is relatively higher but the difference is not significant for it to prove a hypothesis. \n",
    "\n",
    "\n"
   ]
  },
  {
   "cell_type": "code",
   "execution_count": null,
   "id": "317fb53e",
   "metadata": {
    "id": "317fb53e",
    "outputId": "cd2cc78b-cd50-4e88-8e71-e703e7c451c1"
   },
   "outputs": [],
   "source": [
    "grouped_analysis('Payment')"
   ]
  },
  {
   "cell_type": "markdown",
   "id": "50a139f5",
   "metadata": {
    "id": "50a139f5"
   },
   "source": [
    "### Timeseries Analysis"
   ]
  },
  {
   "cell_type": "markdown",
   "id": "77eed376",
   "metadata": {
    "id": "77eed376"
   },
   "source": [
    "Timeseries analysis is when a particular metric (sales/aov etc) is analysed with respect to a time variable ( day/month/year etc)\n",
    "\n",
    "Although timeseries analysis is always beneficial wherever applicable, but in case of Sales related data it becomes even more valuable. \n",
    "This can be attributed to following reasons - \n",
    "\n",
    "* Cyclicity in sales can be visualised\n",
    "* Seasonal sales patterns can be identified\n",
    "* Impact of various events ( Festivals, Market collapse, Natural disasters etc. ) can be identified\n",
    "* New strategies can be devised based on the insights to lift up sales during specific times. \n",
    "* Ideal promotional times can be identified. "
   ]
  },
  {
   "cell_type": "markdown",
   "id": "5e7d2e54",
   "metadata": {
    "id": "5e7d2e54"
   },
   "source": [
    "Here, we will be plotting the same 4 metrics as in last sections against a time variable for our analysis - "
   ]
  },
  {
   "cell_type": "code",
   "execution_count": null,
   "id": "6f2e0b8d",
   "metadata": {
    "id": "6f2e0b8d"
   },
   "outputs": [],
   "source": [
    "# Defining function for Univariate Analysis of Quantitative Variables\n",
    "\n",
    "def timeseries_analysis(col,hue=None):\n",
    "    \n",
    "    plt.figure(figsize=(20,10))\n",
    "    \n",
    "    sales_grouped= sales_data_2[[col,'Total']].groupby(col).sum()              # Sales grouped by col\n",
    "    mean_ratings = sales_data_2[[col,'Rating']].groupby(col).mean()            # Avg ratings grouped by col\n",
    "    aov  = sales_data_2[[col,'Total']].groupby(col).mean()                      # AOV by col\n",
    "    mean_units_qty = sales_data_2[[col,'Quantity']].groupby(col).mean()         # Mean order qty by col\n",
    "\n",
    "\n",
    "    fig, axes=plt.subplots(nrows =2,ncols=2,figsize=(20,12))                      # Defining 4 subplots, changing fig size\n",
    "     \n",
    "    \n",
    "    axes[0,0].set_title(\"Sales by \" + col , size = 25)                            # Chart titl for Subplot 1\n",
    "    sns.lineplot(x=sales_grouped.index , y= sales_grouped['Total'], data=sales_grouped, ax=axes[0,0])\n",
    "\n",
    "\n",
    "    axes[0,1].set_title(\"AOV by \"  + col,size = 25 )                              #  Title for Subplot 2\n",
    "    axes[0,1].set_xticklabels(axes[0,1].get_xticklabels(), fontsize=20)    \n",
    "    axes[0,1].set_xlabel( axes[0,1].get_xticklabels(),fontsize=20)\n",
    "    axes[0,1].set_ylabel( axes[0,1].get_yticklabels(),fontsize=20)\n",
    "    sns.barplot(x=aov.index, y='Total', color=\"#f7a516\",data=aov,ax=axes[0,1])    \n",
    "    \n",
    "    \n",
    "    axes[1,0].set_title(\"Mean Ratings by \" + col,size = 25 )                      # Title for Subplot 3\n",
    "    axes[1,0].set_xlabel( axes[1,0].get_xticklabels(),fontsize=20)\n",
    "    axes[1,0].set_ylabel( axes[1,0].get_yticklabels(),fontsize=20)\n",
    "    sns.barplot(y=mean_ratings.index, x='Rating', color=\"#305cb0\",data=mean_ratings,ax=axes[1,0],orient='h')\n",
    "\n",
    "    \n",
    "    axes[1,1].set_title(\"Mean Units Qty by \" + col,size = 25 )                    # Title for Subplot 4\n",
    "    axes[1,1].set_xlabel( axes[1,1].get_xticklabels(),fontsize=20)\n",
    "    axes[1,1].set_ylabel( axes[1,1].get_yticklabels(),fontsize=20)\n",
    "    sns.barplot(y=mean_units_qty.index, x='Quantity', color=\"#712f80\",data=mean_units_qty,ax=axes[1,1],orient='h')\n",
    "\n",
    "    plt.tight_layout()\n",
    "    fig.savefig(\"timeseries_analysis\"+col+\".png\") "
   ]
  },
  {
   "cell_type": "markdown",
   "id": "9ee77952",
   "metadata": {
    "id": "9ee77952"
   },
   "source": [
    "##### Timeseries Analysus - by Hour"
   ]
  },
  {
   "cell_type": "markdown",
   "id": "d0640017",
   "metadata": {
    "id": "d0640017"
   },
   "source": [
    "Insights - \n",
    "\n",
    "* Sales peak sharply at 7PM in the evening \n",
    "* 4PM-6PM is a dead period with really low sales\n",
    "* Stores see moderate sales during 10 AM to 3 PM\n",
    "* Ratings, Order quantity logically should not be related to time of the day, hence any variation should be attributed to a random phenomenon. "
   ]
  },
  {
   "cell_type": "code",
   "execution_count": null,
   "id": "3e78fe9d",
   "metadata": {
    "id": "3e78fe9d",
    "outputId": "f855af8e-812d-4fdf-9906-d205a75f6036",
    "scrolled": false
   },
   "outputs": [],
   "source": [
    "timeseries_analysis('hour')"
   ]
  },
  {
   "cell_type": "markdown",
   "id": "d0d9ddfa",
   "metadata": {
    "id": "d0d9ddfa"
   },
   "source": [
    "##### Timeseries Analysis - by Month"
   ]
  },
  {
   "cell_type": "markdown",
   "id": "5bb88493",
   "metadata": {
    "id": "5bb88493"
   },
   "source": [
    "Insights - \n",
    "\n",
    "* February is peak sales month where sales go beyond 50k+. Jut for comparison, most of the other month accumulate less than 35k revenue.  \n",
    "* There must be a reason for this spike in February. It can either be a festival in the region, or a season that's driving sales of particular segment or a promotional campaign that has worked well. \n",
    "* December also sees a significant spike, although not as steep as February but still significant. \n",
    "* April-Nov sales are on the lower side, with sales dipping close to 25k in July. "
   ]
  },
  {
   "cell_type": "code",
   "execution_count": null,
   "id": "614c0197",
   "metadata": {
    "id": "614c0197",
    "outputId": "957024cd-921f-4c9c-9e91-a9d2a1ed85af",
    "scrolled": false
   },
   "outputs": [],
   "source": [
    "timeseries_analysis('month')"
   ]
  },
  {
   "cell_type": "markdown",
   "id": "52d702ff",
   "metadata": {
    "id": "52d702ff"
   },
   "source": [
    "##### Month on Month sales - Members and Non Members "
   ]
  },
  {
   "cell_type": "markdown",
   "id": "f7e8b862",
   "metadata": {
    "id": "f7e8b862"
   },
   "source": [
    "Insights - \n",
    "\n",
    "* Members always have significantly more AOV than normal customers. \n",
    "* Members AOV has lesser fluctuations than Non members. "
   ]
  },
  {
   "cell_type": "code",
   "execution_count": null,
   "id": "7a8b4d74",
   "metadata": {
    "id": "7a8b4d74",
    "outputId": "ca2128ef-8964-4088-e0cb-d7f9eceb0e5b",
    "scrolled": false
   },
   "outputs": [],
   "source": [
    "plt.figure(figsize=(15,8))\n",
    "plt.title('AOV per Month by Customer Type')\n",
    "sns.lineplot(data=sales_data_2,x='month',y='Total',hue='Customer type',markers=True,style='Customer type',dashes=False); "
   ]
  },
  {
   "cell_type": "markdown",
   "id": "4c3d9f0d",
   "metadata": {
    "id": "4c3d9f0d"
   },
   "source": [
    "###  Customers across Cities"
   ]
  },
  {
   "cell_type": "markdown",
   "id": "d41ea5bf",
   "metadata": {
    "id": "d41ea5bf"
   },
   "source": [
    "Insights - \n",
    "\n",
    "\n",
    "* Mandalay has least unique customers (90), while Yangon hs most (200+)\n",
    "* Sales per customers metric has opposite trend where each customer spends maximum in Mandalay ( 1600).\n"
   ]
  },
  {
   "cell_type": "markdown",
   "id": "809b84be",
   "metadata": {
    "id": "809b84be"
   },
   "source": [
    "NOTE : nunique function is used to calculate distinct customers "
   ]
  },
  {
   "cell_type": "code",
   "execution_count": null,
   "id": "47a5d15b",
   "metadata": {
    "id": "47a5d15b",
    "outputId": "6abb019c-722b-4350-e3f9-b78a8b43e391",
    "scrolled": false
   },
   "outputs": [],
   "source": [
    "plt.figure(figsize=(15,8))\n",
    "\n",
    "customer_city = sales_data_2[['City', 'CustomerID']].groupby(['City']).nunique()\n",
    "sales_city= sales_data_2[[\"City\",'Total']].groupby(\"City\").sum()\n",
    "sales_per_cx = sales_city[\"Total\"]/customer_city[\"CustomerID\"]\n",
    "\n",
    "fig, ax=plt.subplots(nrows =1,ncols=2,figsize=(20,12))                      # Defining 4 subplots, changing fig size\n",
    "\n",
    "sns.barplot(x=customer_city.index, y='CustomerID', color=\"#f7a516\",data=customer_city,ax=ax[0])  \n",
    "_=ax[0].set_title(\"Customer Count by Cities\", size = 25)                            # Chart titl for Subplot 1\n",
    "\n",
    "\n",
    "sns.barplot(x=customer_city.index, y=sales_per_cx.values, color=\"#f7a516\",ax=ax[1]) \n",
    "_=ax[1].set_title(\"Sales per Customer by Cities\", size = 25)                            # Chart title for Subplot 2\n",
    "\n",
    "\n"
   ]
  },
  {
   "cell_type": "markdown",
   "id": "430447d5",
   "metadata": {
    "id": "430447d5"
   },
   "source": [
    "### Member/Non-Member Deep Dive"
   ]
  },
  {
   "cell_type": "markdown",
   "id": "7f1bbbfb",
   "metadata": {
    "id": "7f1bbbfb"
   },
   "source": [
    "Finally, we'll see how our Member and Non Members perform across 4 metrics that we've used for bivariate analysis. \n",
    "\n",
    "We'll make use of Grouped bar chart to represent the comparison in a better way - "
   ]
  },
  {
   "cell_type": "code",
   "execution_count": null,
   "id": "89022d55",
   "metadata": {
    "id": "89022d55",
    "outputId": "c4b07102-7498-46ef-ac7a-7f57204c962b",
    "scrolled": false
   },
   "outputs": [],
   "source": [
    "sales_grouped= sales_data_2[[\"City\",\"Customer type\",'Total']].groupby([\"City\",\"Customer type\"], as_index = False).sum()\n",
    "mean_ratings = sales_data_2[[\"City\",\"Customer type\",'Rating']].groupby([\"City\",\"Customer type\"], as_index = False).mean()\n",
    "aov  = sales_data_2[[\"City\",\"Customer type\",'Total']].groupby([\"City\",\"Customer type\"], as_index = False).mean()\n",
    "mean_units_qty = sales_data_2[[\"City\",'Customer type','Quantity']].groupby([\"City\",\"Customer type\"], as_index = False).mean()\n",
    "                               \n",
    "fig,axes= plt.subplots(nrows =2,ncols=2,figsize=(20,12)) \n",
    "                              \n",
    "_=sns.barplot(x=sales_grouped[\"City\"], y='Total',data=sales_grouped,hue = 'Customer type', ax = axes[0,0])  \n",
    "axes[0,0].set_xticklabels(axes[0,0].get_xticklabels(), fontsize=20)    \n",
    "axes[0,0].set_title(\"Sales by City/Cutomer Type \"  , size = 25)     \n",
    "                              \n",
    "_=sns.barplot(x=aov[\"City\"], y='Total',data=aov,hue = 'Customer type', ax = axes[0,1])  \n",
    "axes[0,1].set_xticklabels(axes[0,1].get_xticklabels(), fontsize=20)    \n",
    "axes[0,1].set_title(\"AOV by City/Cutomer Type \"  , size = 25)  \n",
    "                              \n",
    "_=sns.barplot(x=mean_ratings[\"City\"], y='Rating',data=mean_ratings,hue = 'Customer type', ax = axes[1,0])  \n",
    "axes[1,0].set_xticklabels(axes[1,0].get_xticklabels(), fontsize=20)    \n",
    "axes[1,0].set_title(\"Mean Ratings by City/Cutomer Type \"  , size = 25)  \n",
    "                              \n",
    "_=sns.barplot(x=mean_units_qty[\"City\"], y='Quantity',data=mean_units_qty,hue = 'Customer type', ax = axes[1,1])  \n",
    "axes[1,1].set_xticklabels(axes[1,1].get_xticklabels(), fontsize=20)    \n",
    "axes[1,1].set_title(\"Mean Order Qty by City/Cutomer Type \"  , size = 25)  \n",
    "\n",
    "plt.tight_layout()"
   ]
  },
  {
   "cell_type": "markdown",
   "id": "90abf295",
   "metadata": {
    "id": "90abf295"
   },
   "source": [
    "Insights - \n",
    "\n",
    "* Normal customers have more sales in all cities. But that may be due to the fact that Non Members are higher in count as we've seen earlier.\n",
    "* Members consistently have higher AOV than non members. \n",
    "* The AOV is driven by higher order quantity. \n"
   ]
  },
  {
   "cell_type": "markdown",
   "id": "19917ebc",
   "metadata": {
    "id": "19917ebc"
   },
   "source": [
    "## 5. Final Insights"
   ]
  },
  {
   "cell_type": "markdown",
   "id": "94581dca",
   "metadata": {
    "id": "94581dca"
   },
   "source": [
    "As per the insights discussed so far, we can have following final recommendations -\n",
    "\n",
    "•\tThe Members are doing really well in terms of sales numbers for the company. Thus a campaign can be formulated to promote the member sign ups.\n",
    "\n",
    "•\tThe spike in Feb sales are a hint that the stores have the potential to have higher sales throughout the year. Specially April to November period sales can be significantly improved by some focused marketing.\n",
    "\n",
    "•\tFood & Beverages, Home and lifestyle have the maximum AOV among all categories, but constitute just 20% of the total sales together. The ratings are also better than other categories. It is a sign that a strategy around promoting these categories can be formulated.\n",
    "\n",
    "•\tIt is a good sign for the supermarket chain that Females are driving majority of the sales. Even females' dominated categories such as Health & Beauty, Fashion are top product categories. The company can scale this further to improve overall revenue. Female tend to be higher spenders than Men, and company can take more advantage of this data insight.\n",
    "\n",
    "•\tYangon has least sales and AOV of all cities and the difference is significant too. Hence a focused marketing campaign can be launched to meet the potential sale in this city.\n"
   ]
  }
 ],
 "metadata": {
  "colab": {
   "collapsed_sections": [
    "d8d6643e",
    "648be95c",
    "5ec23b6f",
    "17be877a",
    "ad6f80c1",
    "4c5cf2eb",
    "483e67dd",
    "fe2ea955",
    "c799b527",
    "b249ba5b",
    "6bc4fe90",
    "6161f2cc",
    "b2c91c4d",
    "cae50527",
    "4f6af5c4",
    "fbdafac9",
    "50a139f5",
    "4c3d9f0d",
    "430447d5",
    "19917ebc"
   ],
   "name": "Week14_Day5_CaseStudy.ipynb",
   "provenance": []
  },
  "kernelspec": {
   "display_name": "Python 3 (ipykernel)",
   "language": "python",
   "name": "python3"
  },
  "language_info": {
   "codemirror_mode": {
    "name": "ipython",
    "version": 3
   },
   "file_extension": ".py",
   "mimetype": "text/x-python",
   "name": "python",
   "nbconvert_exporter": "python",
   "pygments_lexer": "ipython3",
   "version": "3.9.13"
  }
 },
 "nbformat": 4,
 "nbformat_minor": 5
}
