{
 "cells": [
  {
   "cell_type": "markdown",
   "id": "b3f441f4",
   "metadata": {},
   "source": [
    "# Time series analysis"
   ]
  },
  {
   "cell_type": "markdown",
   "id": "4b5a689b",
   "metadata": {},
   "source": [
    ">Time series analysis means analyzing and finding patterns in a time series dataset. \n",
    "\n",
    ">A time-series dataset is a sequence of data collected over an interval of time. \n",
    "\n",
    ">Stock price data, monthly sales data, daily rainfall data, hourly website traffic data are some examples of time-series data.\n",
    "\n",
    ">Whenever you are analyzing a dataset recorded over a time interval, you are doing Time Series Analysis. \n",
    "\n",
    ">The time interval of a time series data can be weekly, monthly, daily, or even hourly time intervals, but the process of analyzing your data will remain the same in most of the problems."
   ]
  },
  {
   "cell_type": "code",
   "execution_count": 1,
   "id": "9fbb1353",
   "metadata": {},
   "outputs": [
    {
     "ename": "ModuleNotFoundError",
     "evalue": "No module named 'yfinance'",
     "output_type": "error",
     "traceback": [
      "\u001b[1;31m---------------------------------------------------------------------------\u001b[0m",
      "\u001b[1;31mModuleNotFoundError\u001b[0m                       Traceback (most recent call last)",
      "\u001b[1;32m~\\AppData\\Local\\Temp\\ipykernel_18296\\2660147203.py\u001b[0m in \u001b[0;36m<module>\u001b[1;34m\u001b[0m\n\u001b[0;32m      1\u001b[0m \u001b[1;32mimport\u001b[0m \u001b[0mpandas\u001b[0m \u001b[1;32mas\u001b[0m \u001b[0mpd\u001b[0m\u001b[1;33m\u001b[0m\u001b[1;33m\u001b[0m\u001b[0m\n\u001b[1;32m----> 2\u001b[1;33m \u001b[1;32mimport\u001b[0m \u001b[0myfinance\u001b[0m \u001b[1;32mas\u001b[0m \u001b[0myf\u001b[0m\u001b[1;33m\u001b[0m\u001b[1;33m\u001b[0m\u001b[0m\n\u001b[0m\u001b[0;32m      3\u001b[0m \u001b[1;32mimport\u001b[0m \u001b[0mdatetime\u001b[0m\u001b[1;33m\u001b[0m\u001b[1;33m\u001b[0m\u001b[0m\n\u001b[0;32m      4\u001b[0m \u001b[1;32mfrom\u001b[0m \u001b[0mdatetime\u001b[0m \u001b[1;32mimport\u001b[0m \u001b[0mdate\u001b[0m\u001b[1;33m,\u001b[0m \u001b[0mtimedelta\u001b[0m\u001b[1;33m\u001b[0m\u001b[1;33m\u001b[0m\u001b[0m\n",
      "\u001b[1;31mModuleNotFoundError\u001b[0m: No module named 'yfinance'"
     ]
    }
   ],
   "source": [
    "import pandas as pd\n",
    "import yfinance as yf\n",
    "import datetime\n",
    "from datetime import date, timedelta"
   ]
  },
  {
   "cell_type": "code",
   "execution_count": null,
   "id": "4df5e063",
   "metadata": {},
   "outputs": [],
   "source": [
    "today = date.today()\n",
    "d1 = today.strftime(\"%Y-%m-%d\")\n",
    "end_date = d1\n",
    "d2 = date.today() - timedelta(days = 720)\n",
    "d2 = d2.strftime(\"%Y-%m-%d\")\n",
    "start_date = d2"
   ]
  },
  {
   "cell_type": "code",
   "execution_count": null,
   "id": "2066b889",
   "metadata": {},
   "outputs": [],
   "source": [
    "data = yf.download('AAPL', start = start_date, end = end_date, progress = False)\n",
    "data.head()\n"
   ]
  },
  {
   "cell_type": "markdown",
   "id": "978e2a67",
   "metadata": {},
   "source": [
    "The above code will collect the stock price data from today to the last 720 days. In this dataset Date is not a column, It's the index of this dataset. "
   ]
  },
  {
   "cell_type": "code",
   "execution_count": null,
   "id": "4957b8e9",
   "metadata": {},
   "outputs": [],
   "source": []
  },
  {
   "cell_type": "code",
   "execution_count": null,
   "id": "16747bb5",
   "metadata": {},
   "outputs": [],
   "source": [
    "#data['Date'] = data.index\n",
    "#data = data[['Date', 'Open', 'High', 'Low', 'Close', 'Adj Close', 'Volume']]\n",
    "#data.reset_index(drop = True, inplace = True)\n",
    "#print(data.head())\n"
   ]
  },
  {
   "cell_type": "markdown",
   "id": "031c4244",
   "metadata": {},
   "source": [
    "> In the above code, I have used the yfinance API to extract the latest stock price data.\n",
    "\n",
    "> Now let’s visualize a line plot to see the trends in stock prices of Apple."
   ]
  },
  {
   "cell_type": "code",
   "execution_count": null,
   "id": "e47b87ef",
   "metadata": {},
   "outputs": [],
   "source": [
    "import plotly.express as px\n",
    "figure = px.line(data, x = data.index, y = \"Close\", title = \"Time Series Analysis (Line Plot)\")\n",
    "figure.show()"
   ]
  },
  {
   "cell_type": "markdown",
   "id": "2d9a0372",
   "metadata": {},
   "source": [
    "> A line plot is one of the best visualization tools while working on Time series analysis. In the above code, I am visualizing the trends in the close prices of Apple. If you place the cursor on the line, you will see the Close price on the exact date of the data point on which your cursor is.\n",
    "\n",
    "> Now let’s visualize a candlestick chart to see the trends in the open, high, low, and close prices of Apple"
   ]
  },
  {
   "cell_type": "code",
   "execution_count": null,
   "id": "4df1e7e5",
   "metadata": {},
   "outputs": [],
   "source": [
    "import plotly.graph_objects as go\n",
    "\n",
    "figure = go.Figure(data = [go.Candlestick(x = data.index, \n",
    "                                          open = data[\"Open\"], \n",
    "                                          high = data[\"High\"],\n",
    "                                          low = data[\"Low\"],\n",
    "                                          close = data[\"Close\"])])\n",
    "figure.update_layout(title = \"Time Series Analysis (Candlestick Chart)\", xaxis_rangeslider_visible = False)\n",
    "figure.show()"
   ]
  },
  {
   "cell_type": "markdown",
   "id": "0364f5f0",
   "metadata": {},
   "source": [
    "> A candlestick chart is always helpful in the time series analysis of a financial instrument. If you place the cursor on any point in the above candlestick chart, you will see all the prices of Apple (open, high, low, and close) on the date where your cursor is. The red lines of this chart indicate a fall in prices, and the green lines indicate an increase in prices.\n",
    "\n"
   ]
  },
  {
   "cell_type": "markdown",
   "id": "0136e5d4",
   "metadata": {},
   "source": [
    "Now let’s visualize a bar plot to visualize the trends of close prices over the period."
   ]
  },
  {
   "cell_type": "code",
   "execution_count": null,
   "id": "69cfe307",
   "metadata": {},
   "outputs": [],
   "source": [
    "\n",
    "figure = px.bar(data, x = data.index, y = \"Close\", title = \"Time Series Analysis (Bar Plot)\")\n",
    "figure.show()"
   ]
  },
  {
   "cell_type": "markdown",
   "id": "25658259",
   "metadata": {},
   "source": [
    "The bar plot above shows an increase in stock prices in the long term scenario. The line chart and candlestick chart show you increase and decrease of the price, but if you want to see the price increase and decrease in the long term, you should always prefer a bar chart."
   ]
  },
  {
   "cell_type": "markdown",
   "id": "0d1f6fcc",
   "metadata": {},
   "source": [
    "If you want to analyze stock prices between the period of two specific dates, then below is how you can do it"
   ]
  },
  {
   "cell_type": "code",
   "execution_count": null,
   "id": "f4d4fbaf",
   "metadata": {},
   "outputs": [],
   "source": [
    "figure = px.line(data, x = data.index, y = \"Close\", range_x = ['2021-12-23', '2022-08-27'], \n",
    "                title = 'Time Series Analysis (Custom Date)')\n",
    "figure.show()"
   ]
  },
  {
   "cell_type": "markdown",
   "id": "6f8ca72b",
   "metadata": {},
   "source": [
    "One of the best ways to analyze a time series data is to create an interactive visualization where you can manually select the time interval in the output visualization itself. One way to do it is to add a slider below your visualization and buttons to control time intervals above your visualization. Below is how you can create an interactive candlestick chart where you can select time intervals in the output itself"
   ]
  },
  {
   "cell_type": "code",
   "execution_count": null,
   "id": "64b03706",
   "metadata": {},
   "outputs": [],
   "source": [
    "figure = go.Figure(data = [go.Candlestick(x = data.index,\n",
    "                                        open = data[\"Open\"], \n",
    "                                        high = data[\"High\"],\n",
    "                                        low = data[\"Low\"], \n",
    "                                        close = data[\"Close\"])])\n",
    "figure.update_layout(title = \"Time Series Analysis (Candlestick Chart with Buttons and Slider)\")\n",
    "\n",
    "figure.update_xaxes(\n",
    "    rangeslider_visible = True,\n",
    "    rangeselector = dict(\n",
    "        buttons = list([\n",
    "            dict(count = 1, label = \"1m\", step = \"month\", stepmode = \"backward\"),\n",
    "            dict(count = 6, label = \"6m\", step = \"month\", stepmode = \"backward\"),\n",
    "            dict(count = 1, label = \"YTD\", step = \"year\", stepmode = \"todate\"),\n",
    "            dict(count = 1, label = \"1y\", step = \"year\", stepmode = \"backward\"),\n",
    "            dict(step = \"all\")\n",
    "        ])\n",
    "    )\n",
    ")\n"
   ]
  },
  {
   "cell_type": "code",
   "execution_count": null,
   "id": "d85b8280",
   "metadata": {},
   "outputs": [],
   "source": []
  }
 ],
 "metadata": {
  "kernelspec": {
   "display_name": "Python 3 (ipykernel)",
   "language": "python",
   "name": "python3"
  },
  "language_info": {
   "codemirror_mode": {
    "name": "ipython",
    "version": 3
   },
   "file_extension": ".py",
   "mimetype": "text/x-python",
   "name": "python",
   "nbconvert_exporter": "python",
   "pygments_lexer": "ipython3",
   "version": "3.9.13"
  }
 },
 "nbformat": 4,
 "nbformat_minor": 5
}
